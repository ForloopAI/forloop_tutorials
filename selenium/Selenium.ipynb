{
 "cells": [
  {
   "cell_type": "markdown",
   "id": "890d1446",
   "metadata": {},
   "source": [
    "# Selenium\n",
    "\n",
    "This code was prepared for the article: [Selenium introduction: A web scraping tools in practice](https://www.forloop.ai/blog/selenium)."
   ]
  },
  {
   "cell_type": "code",
   "execution_count": 52,
   "id": "ff523cf4",
   "metadata": {},
   "outputs": [],
   "source": [
    "from selenium import webdriver\n",
    "from selenium.webdriver.common.by import By"
   ]
  },
  {
   "cell_type": "markdown",
   "id": "a3011aed",
   "metadata": {},
   "source": [
    "### Open the 1st article"
   ]
  },
  {
   "cell_type": "code",
   "execution_count": 30,
   "id": "3e2d736c",
   "metadata": {},
   "outputs": [],
   "source": [
    "# Create a new instance of the Firefox driver\n",
    "driver = webdriver.Firefox()\n",
    "\n",
    "# Go to the forloop.ai blog page\n",
    "driver.get(\"https://www.forloop.ai/blog\")"
   ]
  },
  {
   "cell_type": "code",
   "execution_count": 19,
   "id": "6a8f06d5",
   "metadata": {},
   "outputs": [],
   "source": [
    "# Find the first article link\n",
    "first_article = driver.find_element(By.CLASS_NAME, \"article-item\")\n",
    "\n",
    "# Click the article link\n",
    "first_article.click()"
   ]
  },
  {
   "cell_type": "markdown",
   "id": "bf7b2908",
   "metadata": {},
   "source": [
    "### Extract all articles"
   ]
  },
  {
   "cell_type": "code",
   "execution_count": 31,
   "id": "fb7faf2a",
   "metadata": {},
   "outputs": [
    {
     "name": "stdout",
     "output_type": "stream",
     "text": [
      "Title: Scrapy introduction: A web scraping tools in practice\n",
      "Tag: Tutorial\n",
      "Date: July 7, 2023\n",
      "---\n",
      "Title: Puppeteer Python API introduction: A web scraping tools in practice\n",
      "Tag: Tutorial\n",
      "Date: June 16, 2023\n",
      "---\n",
      "Title: Beautiful Soup introduction: A web scraping tools in practice\n",
      "Tag: Tutorial\n",
      "Date: June 2, 2023\n",
      "---\n",
      "Title: This is the Data: A Mandalorian Guide to Web Scraping Best Practices\n",
      "Tag: Tutorial\n",
      "Date: May 31, 2023\n",
      "---\n",
      "Title: Real Estate Crowdfunding platform leads generation strategies.\n",
      "Tag: Business\n",
      "Date: May 25, 2023\n",
      "---\n",
      "Title: Navigating Regulatory Challenges in Real Estate Crowdfunding\n",
      "Tag: Business\n",
      "Date: May 25, 2023\n",
      "---\n",
      "Title: The Role of AI in Real Estate Crowdfunding\n",
      "Tag: Business\n",
      "Date: May 3, 2023\n",
      "---\n",
      "Title: How to Start Investing as a Non-Accredited Investors in Real Estate Crowdfunding Platforms\n",
      "Tag: Business\n",
      "Date: April 26, 2023\n",
      "---\n",
      "Title: The Future of Real Estate Crowdfunding: Market Trends and Opportunities\n",
      "Tag: Business\n",
      "Date: April 19, 2023\n",
      "---\n",
      "Title: Challenges and Problems in Real Estate Crowdfunding\n",
      "Tag: Business\n",
      "Date: April 14, 2023\n",
      "---\n",
      "Title: Building a Successful Real Estate Crowdfunding Platform: Key Features and Tech\n",
      "Tag: Business\n",
      "Date: April 12, 2023\n",
      "---\n",
      "Title: Data-Driven Real Estate Crowdfunding: The Future of Property Investing\n",
      "Tag: Business\n",
      "Date: March 24, 2023\n",
      "---\n",
      "Title: Internal and External Data: What's the Difference and Why It Matters\n",
      "Tag: Business\n",
      "Date: March 15, 2023\n",
      "---\n",
      "Title: Content scraping in real estate market - a general overview.\n",
      "Tag: Business\n",
      "Date: March 8, 2023\n",
      "---\n",
      "Title: How ShareSpace captured the UK and German market cost-efficiently, with Forloop.\n",
      "Tag: Business\n",
      "Date: March 1, 2023\n",
      "---\n",
      "Title: A curated list of 20 real estate use cases for external data\n",
      "Tag: Business\n",
      "Date: February 22, 2023\n",
      "---\n",
      "Title: The Importance of External Data Privacy and Security\n",
      "Tag: Business\n",
      "Date: February 15, 2023\n",
      "---\n",
      "Title: How to collect data from any website in just a few minutes?\n",
      "Tag: Tutorial\n",
      "Date: February 8, 2023\n",
      "---\n",
      "Title: Web scraping best practices gained from industry experience.\n",
      "Tag: Business\n",
      "Date: February 1, 2023\n",
      "---\n",
      "Title: A web scraping quick guide with a hands-on tutorial.\n",
      "Tag: Business\n",
      "Date: January 25, 2023\n",
      "---\n",
      "Title: What is external data, and why it's crucial in 2023?\n",
      "Tag: Business\n",
      "Date: January 22, 2023\n",
      "---\n",
      "Title: Machine Learning at Work - in Freight, Air cargo and Logistics\n",
      "Tag: Business\n",
      "Date: September 17, 2021\n",
      "---\n",
      "Title: Why we need more productive data teams?\n",
      "Tag: Product\n",
      "Date: September 17, 2021\n",
      "---\n"
     ]
    }
   ],
   "source": [
    "# Create a new instance of the Firefox driver\n",
    "driver = webdriver.Firefox()\n",
    "\n",
    "# Go to the forloop.ai blog page\n",
    "driver.get(\"https://www.forloop.ai/blog\")\n",
    "\n",
    "# Find the first article link\n",
    "articles = driver.find_elements(By.CSS_SELECTOR, \"div.article-item\")\n",
    "\n",
    "# Extract titles and URLs\n",
    "for item in articles:\n",
    "    title = item.find_element(By.CSS_SELECTOR, \"h4\").text\n",
    "    tag = item.find_element(By.CSS_SELECTOR, \"div.text-white\").text\n",
    "    date = item.find_element(By.CSS_SELECTOR, \"div.blog-post-date\").text\n",
    "    print(f'Title: {title}\\nTag: {tag}\\nDate: {date}\\n---')\n",
    "\n",
    "driver.quit()"
   ]
  },
  {
   "cell_type": "markdown",
   "id": "8648f659",
   "metadata": {},
   "source": [
    "### Tips & Tricks"
   ]
  },
  {
   "cell_type": "markdown",
   "id": "d4ed3b81",
   "metadata": {},
   "source": [
    "**Running in Headless Mode**"
   ]
  },
  {
   "cell_type": "code",
   "execution_count": 37,
   "id": "3d729b4d",
   "metadata": {},
   "outputs": [],
   "source": [
    "from selenium import webdriver\n",
    "from selenium.webdriver.firefox.options import Options\n",
    "\n",
    "\n",
    "options = Options()\n",
    "options.add_argument(\"--headless=new\")\n",
    "\n",
    "driver = webdriver.Firefox(options=options)\n",
    "driver.get(\"https://www.forloop.ai/blog\")\n",
    "\n",
    "driver.quit()"
   ]
  },
  {
   "cell_type": "markdown",
   "id": "ed2154dd",
   "metadata": {},
   "source": [
    "**Employ Explicit Waits**"
   ]
  },
  {
   "cell_type": "code",
   "execution_count": 38,
   "id": "ea7bd235",
   "metadata": {},
   "outputs": [],
   "source": [
    "from selenium import webdriver\n",
    "from selenium.webdriver.common.by import By\n",
    "from selenium.webdriver.support.ui import WebDriverWait\n",
    "from selenium.webdriver.support import expected_conditions as EC\n",
    "\n",
    "\n",
    "driver = webdriver.Firefox()\n",
    "driver.get(\"https://www.forloop.ai/blog\")\n",
    "\n",
    "try:\n",
    "    element = WebDriverWait(driver, 10).until(\n",
    "        EC.presence_of_element_located((By.CSS_SELECTOR, \"div.article-item\"))\n",
    "    )\n",
    "finally:\n",
    "    driver.quit()"
   ]
  },
  {
   "cell_type": "markdown",
   "id": "114749d6",
   "metadata": {},
   "source": [
    "**Combining Selenium with BeautifulSoup**"
   ]
  },
  {
   "cell_type": "code",
   "execution_count": 46,
   "id": "113b8197",
   "metadata": {},
   "outputs": [
    {
     "name": "stdout",
     "output_type": "stream",
     "text": [
      "Title: Scrapy introduction: A web scraping tools in practice\n",
      "Release date: July 7, 2023\n",
      "Link: https://www.forloop.ai/blog/blog/scrapy\n",
      "---\n",
      "Title: Puppeteer Python API introduction: A web scraping tools in practice\n",
      "Release date: June 16, 2023\n",
      "Link: https://www.forloop.ai/blog/blog/puppeteer\n",
      "---\n",
      "Title: Beautiful Soup introduction: A web scraping tools in practice\n",
      "Release date: June 2, 2023\n",
      "Link: https://www.forloop.ai/blog/blog/beautiful-soup\n",
      "---\n",
      "Title: This is the Data: A Mandalorian Guide to Web Scraping Best Practices\n",
      "Release date: May 31, 2023\n",
      "Link: https://www.forloop.ai/blog/blog/scraping-best-practices\n",
      "---\n",
      "Title: Real Estate Crowdfunding platform leads generation strategies.\n",
      "Release date: May 25, 2023\n",
      "Link: https://www.forloop.ai/blog/blog/real-estate-crowdfunding-platform-leads-generation\n",
      "---\n",
      "Title: Navigating Regulatory Challenges in Real Estate Crowdfunding\n",
      "Release date: May 25, 2023\n",
      "Link: https://www.forloop.ai/blog/blog/real-estate-regulatory-challenges\n",
      "---\n",
      "Title: The Role of AI in Real Estate Crowdfunding\n",
      "Release date: May 3, 2023\n",
      "Link: https://www.forloop.ai/blog/blog/ai-real-estate-crowdfunding\n",
      "---\n",
      "Title: How to Start Investing as a Non-Accredited Investors in Real Estate Crowdfunding Platforms\n",
      "Release date: April 26, 2023\n",
      "Link: https://www.forloop.ai/blog/blog/non-accredited-investors\n",
      "---\n",
      "Title: The Future of Real Estate Crowdfunding: Market Trends and Opportunities\n",
      "Release date: April 19, 2023\n",
      "Link: https://www.forloop.ai/blog/blog/real-estate-crowdfunding-trends\n",
      "---\n",
      "Title: Challenges and Problems in Real Estate Crowdfunding\n",
      "Release date: April 14, 2023\n",
      "Link: https://www.forloop.ai/blog/blog/real-estate-crowdfunding-challenges\n",
      "---\n",
      "Title: Building a Successful Real Estate Crowdfunding Platform: Key Features and Tech\n",
      "Release date: April 12, 2023\n",
      "Link: https://www.forloop.ai/blog/blog/real-estate-crowdfunding-platform\n",
      "---\n",
      "Title: Data-Driven Real Estate Crowdfunding: The Future of Property Investing\n",
      "Release date: March 24, 2023\n",
      "Link: https://www.forloop.ai/blog/blog/real-estate-crowdfunding\n",
      "---\n",
      "Title: Internal and External Data: What's the Difference and Why It Matters\n",
      "Release date: March 15, 2023\n",
      "Link: https://www.forloop.ai/blog/blog/internal-and-external-data\n",
      "---\n",
      "Title: Content scraping in real estate market - a general overview.\n",
      "Release date: March 8, 2023\n",
      "Link: https://www.forloop.ai/blog/blog/content-scraping-real-estate\n",
      "---\n",
      "Title: How ShareSpace captured the UK and German market cost-efficiently, with Forloop.\n",
      "Release date: March 1, 2023\n",
      "Link: https://www.forloop.ai/blog/blog/lease-office-space\n",
      "---\n",
      "Title: A curated list of 20 real estate use cases for external data\n",
      "Release date: February 22, 2023\n",
      "Link: https://www.forloop.ai/blog/blog/real-estate-use-cases\n",
      "---\n",
      "Title: The Importance of External Data Privacy and Security\n",
      "Release date: February 15, 2023\n",
      "Link: https://www.forloop.ai/blog/blog/external-data-privacy\n",
      "---\n",
      "Title: How to collect data from any website in just a few minutes?\n",
      "Release date: February 8, 2023\n",
      "Link: https://www.forloop.ai/blog/blog/collect-data\n",
      "---\n",
      "Title: Web scraping best practices gained from industry experience.\n",
      "Release date: February 1, 2023\n",
      "Link: https://www.forloop.ai/blog/blog/web-scraping-best-practices\n",
      "---\n",
      "Title: A web scraping quick guide with a hands-on tutorial.\n",
      "Release date: January 25, 2023\n",
      "Link: https://www.forloop.ai/blog/blog/web-scraping\n",
      "---\n",
      "Title: What is external data, and why it's crucial in 2023?\n",
      "Release date: January 22, 2023\n",
      "Link: https://www.forloop.ai/blog/blog/external-data\n",
      "---\n",
      "Title: Machine Learning at Work - in Freight, Air cargo and Logistics\n",
      "Release date: September 17, 2021\n",
      "Link: https://www.forloop.ai/blog/blog/ml-in-freight\n",
      "---\n",
      "Title: Why we need more productive data teams?\n",
      "Release date: September 17, 2021\n",
      "Link: https://www.forloop.ai/blog/blog/productive-teams\n",
      "---\n"
     ]
    }
   ],
   "source": [
    "from selenium import webdriver\n",
    "from bs4 import BeautifulSoup\n",
    "\n",
    "\n",
    "url = \"https://www.forloop.ai/blog\"\n",
    "\n",
    "driver = webdriver.Firefox()\n",
    "driver.get(url)\n",
    "\n",
    "soup = BeautifulSoup(driver.page_source, \"html.parser\")\n",
    "articles = soup.find_all('div', {'class': 'article-item'})\n",
    "\n",
    "# Create an empty list to store the data\n",
    "data = []\n",
    "\n",
    "# Iterate through each article element\n",
    "for article in articles:\n",
    "    title = article.find('h4').text\n",
    "    date = article.find(class_='blog-post-date').text\n",
    "    link = article.find('a')['href']\n",
    "\n",
    "    # Append the data as a dictionary to the list\n",
    "    data.append({'title': title, 'date': date, 'link': link})\n",
    "\n",
    "# Present all data\n",
    "for n in range(0, len(data)):\n",
    "    print(f\"Title: {data[n]['title']}\")\n",
    "    print(f\"Release date: {data[n]['date']}\")\n",
    "    print(f\"Link: {url}{data[n]['link']}\\n---\")"
   ]
  },
  {
   "cell_type": "markdown",
   "id": "2d330f81",
   "metadata": {},
   "source": [
    "**Implement Error Handling**"
   ]
  },
  {
   "cell_type": "code",
   "execution_count": 49,
   "id": "3adfbe06",
   "metadata": {},
   "outputs": [
    {
     "name": "stdout",
     "output_type": "stream",
     "text": [
      "Element not found\n"
     ]
    }
   ],
   "source": [
    "from selenium import webdriver\n",
    "from selenium.common.exceptions import NoSuchElementException\n",
    "\n",
    "\n",
    "driver = webdriver.Firefox()\n",
    "driver.get(\"https://www.forloop.ai/blog\")\n",
    "\n",
    "try:\n",
    "    element = driver.find_element(By.CSS_SELECTOR, \"div.article-title\")\n",
    "except NoSuchElementException:\n",
    "    print(\"Element not found\")"
   ]
  },
  {
   "cell_type": "markdown",
   "id": "a0e3288b",
   "metadata": {},
   "source": [
    "**Use Page Object Model (POM)**"
   ]
  },
  {
   "cell_type": "code",
   "execution_count": 51,
   "id": "9f4663f4",
   "metadata": {},
   "outputs": [
    {
     "name": "stdout",
     "output_type": "stream",
     "text": [
      "23\n"
     ]
    }
   ],
   "source": [
    "from selenium import webdriver\n",
    "from selenium.webdriver.common.by import By\n",
    "\n",
    "\n",
    "class BlogPage:\n",
    "    def __init__(self, driver):\n",
    "        self.driver = driver\n",
    "        self.articles = self.driver.find_elements(By.CSS_SELECTOR, 'div.article-item')\n",
    "\n",
    "        \n",
    "driver = webdriver.Firefox()\n",
    "driver.get(\"https://www.forloop.ai/blog\")\n",
    "\n",
    "\n",
    "blog_page = BlogPage(driver)\n",
    "print(len(blog_page.articles))  # prints the number of articles"
   ]
  },
  {
   "cell_type": "code",
   "execution_count": null,
   "id": "03956ba5",
   "metadata": {},
   "outputs": [],
   "source": []
  }
 ],
 "metadata": {
  "kernelspec": {
   "display_name": "Python 3 (ipykernel)",
   "language": "python",
   "name": "python3"
  },
  "language_info": {
   "codemirror_mode": {
    "name": "ipython",
    "version": 3
   },
   "file_extension": ".py",
   "mimetype": "text/x-python",
   "name": "python",
   "nbconvert_exporter": "python",
   "pygments_lexer": "ipython3",
   "version": "3.10.6"
  }
 },
 "nbformat": 4,
 "nbformat_minor": 5
}
